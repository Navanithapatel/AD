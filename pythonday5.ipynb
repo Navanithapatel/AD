{
  "nbformat": 4,
  "nbformat_minor": 0,
  "metadata": {
    "colab": {
      "provenance": [],
      "authorship_tag": "ABX9TyODnSyRKcQBjQLZdEi3lx2N",
      "include_colab_link": true
    },
    "kernelspec": {
      "name": "python3",
      "display_name": "Python 3"
    },
    "language_info": {
      "name": "python"
    }
  },
  "cells": [
    {
      "cell_type": "markdown",
      "metadata": {
        "id": "view-in-github",
        "colab_type": "text"
      },
      "source": [
        "<a href=\"https://colab.research.google.com/github/Navanithapatel/AD/blob/main/pythonday5.ipynb\" target=\"_parent\"><img src=\"https://colab.research.google.com/assets/colab-badge.svg\" alt=\"Open In Colab\"/></a>"
      ]
    },
    {
      "cell_type": "code",
      "execution_count": 3,
      "metadata": {
        "colab": {
          "base_uri": "https://localhost:8080/"
        },
        "id": "WsKX11N2eP7c",
        "outputId": "324c1657-f3af-421a-e066-9eb0e0d7a741"
      },
      "outputs": [
        {
          "output_type": "stream",
          "name": "stdout",
          "text": [
            "num is positive\n"
          ]
        }
      ],
      "source": [
        "#write a program to know is positive negative or zero\n",
        "num=6\n",
        "if num < 0:\n",
        "  print('num is negative')\n",
        "elif num > 0:\n",
        "  print('num is positive')\n",
        "else:\n",
        "  print('num is zero')"
      ]
    },
    {
      "cell_type": "code",
      "source": [
        "x=8\n",
        "if x>5:\n",
        "  print('N')\n",
        "elif x>4:\n",
        "   print('k')\n",
        "elif x>7:\n",
        "  print('H')\n",
        "else:\n",
        "  print('O')\n"
      ],
      "metadata": {
        "colab": {
          "base_uri": "https://localhost:8080/"
        },
        "id": "lbbz8_4Yfdxd",
        "outputId": "6dcfd6ff-30e0-4840-9da6-f4d3416751c3"
      },
      "execution_count": 9,
      "outputs": [
        {
          "output_type": "stream",
          "name": "stdout",
          "text": [
            "N\n"
          ]
        }
      ]
    },
    {
      "cell_type": "code",
      "source": [
        "a='hyderabd'\n",
        "a"
      ],
      "metadata": {
        "colab": {
          "base_uri": "https://localhost:8080/",
          "height": 35
        },
        "id": "xw8xmX0agH_7",
        "outputId": "1c8e24b9-6848-4448-e55c-6cc3fdfd625c"
      },
      "execution_count": 10,
      "outputs": [
        {
          "output_type": "execute_result",
          "data": {
            "text/plain": [
              "'hyderabd'"
            ],
            "application/vnd.google.colaboratory.intrinsic+json": {
              "type": "string"
            }
          },
          "metadata": {},
          "execution_count": 10
        }
      ]
    },
    {
      "cell_type": "code",
      "source": [
        "type(a)"
      ],
      "metadata": {
        "colab": {
          "base_uri": "https://localhost:8080/"
        },
        "id": "vUN7Pb9Gj0iN",
        "outputId": "841aba4a-a239-4d92-cda5-df330d2d562f"
      },
      "execution_count": 12,
      "outputs": [
        {
          "output_type": "execute_result",
          "data": {
            "text/plain": [
              "str"
            ]
          },
          "metadata": {},
          "execution_count": 12
        }
      ]
    },
    {
      "cell_type": "code",
      "source": [
        "a.upper()\n"
      ],
      "metadata": {
        "colab": {
          "base_uri": "https://localhost:8080/",
          "height": 35
        },
        "id": "D3KJLufPj1kg",
        "outputId": "85980ef9-0c98-4df6-aa62-242d5e15efe2"
      },
      "execution_count": 14,
      "outputs": [
        {
          "output_type": "execute_result",
          "data": {
            "text/plain": [
              "'HYDERABD'"
            ],
            "application/vnd.google.colaboratory.intrinsic+json": {
              "type": "string"
            }
          },
          "metadata": {},
          "execution_count": 14
        }
      ]
    },
    {
      "cell_type": "code",
      "source": [
        "a.lower()"
      ],
      "metadata": {
        "colab": {
          "base_uri": "https://localhost:8080/",
          "height": 35
        },
        "id": "Ifi4CBbYkEAM",
        "outputId": "35fcf115-2c46-4c93-b8c2-d07c4de3f478"
      },
      "execution_count": 15,
      "outputs": [
        {
          "output_type": "execute_result",
          "data": {
            "text/plain": [
              "'hyderabd'"
            ],
            "application/vnd.google.colaboratory.intrinsic+json": {
              "type": "string"
            }
          },
          "metadata": {},
          "execution_count": 15
        }
      ]
    },
    {
      "cell_type": "code",
      "source": [
        "a[6]"
      ],
      "metadata": {
        "colab": {
          "base_uri": "https://localhost:8080/",
          "height": 35
        },
        "id": "ZbvA7jMEkIJn",
        "outputId": "b9db64e0-1d85-4256-cbb7-81fd5135dfd4"
      },
      "execution_count": 16,
      "outputs": [
        {
          "output_type": "execute_result",
          "data": {
            "text/plain": [
              "'b'"
            ],
            "application/vnd.google.colaboratory.intrinsic+json": {
              "type": "string"
            }
          },
          "metadata": {},
          "execution_count": 16
        }
      ]
    },
    {
      "cell_type": "code",
      "source": [
        "a[-6]"
      ],
      "metadata": {
        "colab": {
          "base_uri": "https://localhost:8080/",
          "height": 35
        },
        "id": "MSBIdWX8kKTD",
        "outputId": "a5380e13-ecf1-4ef1-d455-49fa79b46842"
      },
      "execution_count": 17,
      "outputs": [
        {
          "output_type": "execute_result",
          "data": {
            "text/plain": [
              "'d'"
            ],
            "application/vnd.google.colaboratory.intrinsic+json": {
              "type": "string"
            }
          },
          "metadata": {},
          "execution_count": 17
        }
      ]
    },
    {
      "cell_type": "code",
      "source": [
        "x='telenagana'\n",
        "x='tiger'\n",
        "x='tank'\n",
        "x='tan'\n",
        "x='tony'\n",
        "a='apple'\n",
        "\n",
        "if x=='telangana':\n",
        "  print('starts with t')\n",
        "elif x!='telangana':\n",
        "  print('not starts wth t')\n",
        "else:\n",
        "  print('lion')\n",
        "\n"
      ],
      "metadata": {
        "colab": {
          "base_uri": "https://localhost:8080/"
        },
        "id": "M81oKdYHkNnX",
        "outputId": "00b1773b-c948-45b1-de45-ae7496e69d02"
      },
      "execution_count": 29,
      "outputs": [
        {
          "output_type": "stream",
          "name": "stdout",
          "text": [
            "not starts wth t\n"
          ]
        }
      ]
    },
    {
      "cell_type": "code",
      "source": [
        "x='telangana'\n",
        "if x[0]=='t' or x[0]=='T':\n",
        "  print('Yes')\n",
        "else:\n",
        "  print('No')\n"
      ],
      "metadata": {
        "colab": {
          "base_uri": "https://localhost:8080/"
        },
        "id": "RPNaedzGkSlH",
        "outputId": "2b6da2ec-f6c2-43ec-d87e-b6f20971b11e"
      },
      "execution_count": 35,
      "outputs": [
        {
          "output_type": "stream",
          "name": "stdout",
          "text": [
            "Yes\n"
          ]
        }
      ]
    },
    {
      "cell_type": "code",
      "source": [
        "s='system'\n",
        "if s[0].lower()=='s' or s[0]==S:\n",
        "  print('Yes')\n",
        "else:\n",
        "  print('No')\n"
      ],
      "metadata": {
        "colab": {
          "base_uri": "https://localhost:8080/"
        },
        "id": "Osh2GBUGnfd5",
        "outputId": "6bfaafff-dcb6-45c6-f956-ea2eee50085b"
      },
      "execution_count": 37,
      "outputs": [
        {
          "output_type": "stream",
          "name": "stdout",
          "text": [
            "Yes\n"
          ]
        }
      ]
    },
    {
      "cell_type": "code",
      "source": [
        "s[0].lower()"
      ],
      "metadata": {
        "colab": {
          "base_uri": "https://localhost:8080/",
          "height": 35
        },
        "id": "X3c4GvuHoZtF",
        "outputId": "2e15093c-393c-42e0-c2e1-3308e290c866"
      },
      "execution_count": 38,
      "outputs": [
        {
          "output_type": "execute_result",
          "data": {
            "text/plain": [
              "'s'"
            ],
            "application/vnd.google.colaboratory.intrinsic+json": {
              "type": "string"
            }
          },
          "metadata": {},
          "execution_count": 38
        }
      ]
    },
    {
      "cell_type": "code",
      "source": [
        "s,x,a\n",
        "s='sun'\n",
        "x='hyd'\n",
        "a='man'"
      ],
      "metadata": {
        "id": "cJ0sx2QwpuKW"
      },
      "execution_count": 46,
      "outputs": []
    },
    {
      "cell_type": "code",
      "source": [
        "\n",
        "if x[0]=='s' or x[0]=='S' or x[0]=='x' or x[0]=='X' or x[0]=='x'or x[0]=='A':\n",
        "  print('Yes')\n",
        "else:\n",
        "  print('No')"
      ],
      "metadata": {
        "colab": {
          "base_uri": "https://localhost:8080/"
        },
        "id": "uM_b0lxZpxzv",
        "outputId": "ade233f0-280a-4c13-c334-aacc2899b11f"
      },
      "execution_count": 47,
      "outputs": [
        {
          "output_type": "stream",
          "name": "stdout",
          "text": [
            "No\n"
          ]
        }
      ]
    },
    {
      "cell_type": "code",
      "source": [
        "if x[0].lower() in (s,x,a):\n",
        "  print('yes')\n",
        "else:\n",
        "  print('no')"
      ],
      "metadata": {
        "colab": {
          "base_uri": "https://localhost:8080/"
        },
        "id": "-nh_Xi6LqXc4",
        "outputId": "6564f7c1-a0d0-4c68-df4d-ee8b7470e51a"
      },
      "execution_count": 48,
      "outputs": [
        {
          "output_type": "stream",
          "name": "stdout",
          "text": [
            "no\n"
          ]
        }
      ]
    },
    {
      "cell_type": "code",
      "source": [],
      "metadata": {
        "id": "BI4DufUErZlU"
      },
      "execution_count": null,
      "outputs": []
    }
  ]
}