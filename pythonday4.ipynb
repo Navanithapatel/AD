{
  "nbformat": 4,
  "nbformat_minor": 0,
  "metadata": {
    "colab": {
      "provenance": [],
      "authorship_tag": "ABX9TyPzAMLpEjl7XCOZCl9U78RR",
      "include_colab_link": true
    },
    "kernelspec": {
      "name": "python3",
      "display_name": "Python 3"
    },
    "language_info": {
      "name": "python"
    }
  },
  "cells": [
    {
      "cell_type": "markdown",
      "metadata": {
        "id": "view-in-github",
        "colab_type": "text"
      },
      "source": [
        "<a href=\"https://colab.research.google.com/github/Navanithapatel/AD/blob/main/pythonday4.ipynb\" target=\"_parent\"><img src=\"https://colab.research.google.com/assets/colab-badge.svg\" alt=\"Open In Colab\"/></a>"
      ]
    },
    {
      "cell_type": "code",
      "execution_count": 1,
      "metadata": {
        "colab": {
          "base_uri": "https://localhost:8080/"
        },
        "id": "7tOOTWTaT_8g",
        "outputId": "92afa219-4e9c-418c-bdd5-637699511041"
      },
      "outputs": [
        {
          "output_type": "execute_result",
          "data": {
            "text/plain": [
              "{23: 67, 78: 98, 56: 76}"
            ]
          },
          "metadata": {},
          "execution_count": 1
        }
      ],
      "source": [
        "\n",
        "#Dictionary\n",
        "#Dictionary does not allow duplicate key\n",
        "#update\n",
        "#get\n",
        "#change\n",
        "#delete\n",
        "#adding multiple values to dinge key\n",
        "d={23:67,78:98,56:76}\n",
        "d"
      ]
    },
    {
      "cell_type": "code",
      "source": [
        "type(d)"
      ],
      "metadata": {
        "colab": {
          "base_uri": "https://localhost:8080/"
        },
        "id": "Z8aYycJHWZci",
        "outputId": "f93e276a-2060-458d-c26c-c983ebfd4986"
      },
      "execution_count": 2,
      "outputs": [
        {
          "output_type": "execute_result",
          "data": {
            "text/plain": [
              "dict"
            ]
          },
          "metadata": {},
          "execution_count": 2
        }
      ]
    },
    {
      "cell_type": "code",
      "source": [
        "d[56]\n"
      ],
      "metadata": {
        "colab": {
          "base_uri": "https://localhost:8080/"
        },
        "id": "7ylN63hJWarF",
        "outputId": "bb7fcb2e-aae4-4efb-bd74-f9050c0c77ce"
      },
      "execution_count": 4,
      "outputs": [
        {
          "output_type": "execute_result",
          "data": {
            "text/plain": [
              "76"
            ]
          },
          "metadata": {},
          "execution_count": 4
        }
      ]
    },
    {
      "cell_type": "code",
      "source": [
        "d[76]=59\n",
        "d"
      ],
      "metadata": {
        "colab": {
          "base_uri": "https://localhost:8080/"
        },
        "id": "eMHTNd5PWkWM",
        "outputId": "c9e1f1e5-677f-496d-fa3d-35d2c1eec89e"
      },
      "execution_count": 7,
      "outputs": [
        {
          "output_type": "execute_result",
          "data": {
            "text/plain": [
              "{23: 67, 78: 98, 56: 59, 76: 59}"
            ]
          },
          "metadata": {},
          "execution_count": 7
        }
      ]
    },
    {
      "cell_type": "code",
      "source": [
        "d.update({45:90})\n",
        "d"
      ],
      "metadata": {
        "colab": {
          "base_uri": "https://localhost:8080/"
        },
        "id": "abHqIhHMXa_B",
        "outputId": "6a6e4af8-f368-434a-fd49-8c2b0447efc3"
      },
      "execution_count": 8,
      "outputs": [
        {
          "output_type": "execute_result",
          "data": {
            "text/plain": [
              "{23: 67, 78: 98, 56: 59, 76: 59, 45: 90}"
            ]
          },
          "metadata": {},
          "execution_count": 8
        }
      ]
    },
    {
      "cell_type": "code",
      "source": [
        "d[90]=80\n",
        "d"
      ],
      "metadata": {
        "colab": {
          "base_uri": "https://localhost:8080/"
        },
        "id": "8S92EYQNYqrB",
        "outputId": "010de38f-8bcb-4cca-847e-e575a4f582ba"
      },
      "execution_count": 12,
      "outputs": [
        {
          "output_type": "execute_result",
          "data": {
            "text/plain": [
              "{23: 67, 78: 98, 56: 59, 76: 59, 45: 80, 80: 80, 90: 80}"
            ]
          },
          "metadata": {},
          "execution_count": 12
        }
      ]
    },
    {
      "cell_type": "code",
      "source": [
        "d.update({67:'India'})\n",
        "d"
      ],
      "metadata": {
        "colab": {
          "base_uri": "https://localhost:8080/"
        },
        "id": "V2KM7LOQY-2Z",
        "outputId": "c60d1773-c0a8-4da1-806c-c4cc8526ba3f"
      },
      "execution_count": 14,
      "outputs": [
        {
          "output_type": "execute_result",
          "data": {
            "text/plain": [
              "{23: 67, 78: 98, 56: 59, 76: 59, 45: 80, 80: 80, 90: 80, 67: 'India'}"
            ]
          },
          "metadata": {},
          "execution_count": 14
        }
      ]
    },
    {
      "cell_type": "code",
      "source": [
        "d.update({76:'Navanitha'})\n",
        "d"
      ],
      "metadata": {
        "colab": {
          "base_uri": "https://localhost:8080/"
        },
        "id": "APaPbXT8ZFGf",
        "outputId": "6ea57814-a96b-4bdf-e6ed-56e0601aba2b"
      },
      "execution_count": 15,
      "outputs": [
        {
          "output_type": "execute_result",
          "data": {
            "text/plain": [
              "{23: 67, 78: 98, 56: 59, 76: 'Navanitha', 45: 80, 80: 80, 90: 80, 67: 'India'}"
            ]
          },
          "metadata": {},
          "execution_count": 15
        }
      ]
    },
    {
      "cell_type": "code",
      "source": [
        "d.update({80:'delhi'})\n",
        "d\n"
      ],
      "metadata": {
        "colab": {
          "base_uri": "https://localhost:8080/"
        },
        "id": "YDyUHU21ZthJ",
        "outputId": "2165a835-8b39-40fa-dc17-9d33a03c068e"
      },
      "execution_count": 22,
      "outputs": [
        {
          "output_type": "execute_result",
          "data": {
            "text/plain": [
              "{23: 67,\n",
              " 78: 98,\n",
              " 56: 59,\n",
              " 76: 'Navanitha',\n",
              " 45: 80,\n",
              " 80: 'delhi',\n",
              " 90: 80,\n",
              " 67: 'India'}"
            ]
          },
          "metadata": {},
          "execution_count": 22
        }
      ]
    },
    {
      "cell_type": "code",
      "source": [
        "d.get(76)\n"
      ],
      "metadata": {
        "colab": {
          "base_uri": "https://localhost:8080/",
          "height": 35
        },
        "id": "7tmlg1yRZ5ix",
        "outputId": "79d782e8-2478-4b42-9a70-cc1036f888f6"
      },
      "execution_count": 19,
      "outputs": [
        {
          "output_type": "execute_result",
          "data": {
            "text/plain": [
              "'Navanitha'"
            ],
            "application/vnd.google.colaboratory.intrinsic+json": {
              "type": "string"
            }
          },
          "metadata": {},
          "execution_count": 19
        }
      ]
    },
    {
      "cell_type": "code",
      "source": [
        "d"
      ],
      "metadata": {
        "colab": {
          "base_uri": "https://localhost:8080/"
        },
        "id": "jL5Y6WRIaGSN",
        "outputId": "0d8c58c0-2639-4a40-8afb-241d13558255"
      },
      "execution_count": 23,
      "outputs": [
        {
          "output_type": "execute_result",
          "data": {
            "text/plain": [
              "{23: 67,\n",
              " 78: 98,\n",
              " 56: 59,\n",
              " 76: 'Navanitha',\n",
              " 45: 80,\n",
              " 80: 'delhi',\n",
              " 90: 80,\n",
              " 67: 'India'}"
            ]
          },
          "metadata": {},
          "execution_count": 23
        }
      ]
    },
    {
      "cell_type": "code",
      "source": [
        "del d[23]\n",
        "d"
      ],
      "metadata": {
        "colab": {
          "base_uri": "https://localhost:8080/"
        },
        "id": "GVKuJo28azSm",
        "outputId": "a7d562b9-7250-414c-a46b-fcd039d1ee1e"
      },
      "execution_count": 27,
      "outputs": [
        {
          "output_type": "execute_result",
          "data": {
            "text/plain": [
              "{78: 98, 56: 59, 76: 'Navanitha', 45: 80, 80: 'delhi', 90: 80, 67: 'India'}"
            ]
          },
          "metadata": {},
          "execution_count": 27
        }
      ]
    },
    {
      "cell_type": "code",
      "source": [
        "d.items()"
      ],
      "metadata": {
        "colab": {
          "base_uri": "https://localhost:8080/"
        },
        "id": "5tHEJ7tCbM6K",
        "outputId": "b8904ed6-edcd-4926-810f-71e7f79d6671"
      },
      "execution_count": 28,
      "outputs": [
        {
          "output_type": "execute_result",
          "data": {
            "text/plain": [
              "dict_items([(78, 98), (56, 59), (76, 'Navanitha'), (45, 80), (80, 'delhi'), (90, 80), (67, 'India')])"
            ]
          },
          "metadata": {},
          "execution_count": 28
        }
      ]
    },
    {
      "cell_type": "code",
      "source": [
        "d.values()"
      ],
      "metadata": {
        "colab": {
          "base_uri": "https://localhost:8080/"
        },
        "id": "WoCd4t19b5Zz",
        "outputId": "4a0c762e-74fd-4e70-adfb-5f6db67f3231"
      },
      "execution_count": 29,
      "outputs": [
        {
          "output_type": "execute_result",
          "data": {
            "text/plain": [
              "dict_values([98, 59, 'Navanitha', 80, 'delhi', 80, 'India'])"
            ]
          },
          "metadata": {},
          "execution_count": 29
        }
      ]
    },
    {
      "cell_type": "code",
      "source": [
        "d.keys()"
      ],
      "metadata": {
        "colab": {
          "base_uri": "https://localhost:8080/"
        },
        "id": "1uyilWbwb8ja",
        "outputId": "21668153-1d2b-4d9b-8255-243e57213434"
      },
      "execution_count": 30,
      "outputs": [
        {
          "output_type": "execute_result",
          "data": {
            "text/plain": [
              "dict_keys([78, 56, 76, 45, 80, 90, 67])"
            ]
          },
          "metadata": {},
          "execution_count": 30
        }
      ]
    },
    {
      "cell_type": "code",
      "source": [
        "d.update({50:[79,90,88,66,55]})\n",
        "d"
      ],
      "metadata": {
        "colab": {
          "base_uri": "https://localhost:8080/"
        },
        "id": "eiUfPG0Mb9uq",
        "outputId": "2d5263b6-0ced-4b5c-f9c4-a53915311525"
      },
      "execution_count": 32,
      "outputs": [
        {
          "output_type": "execute_result",
          "data": {
            "text/plain": [
              "{78: [79, 90, 88, 66, 55],\n",
              " 56: 59,\n",
              " 76: 'Navanitha',\n",
              " 45: 80,\n",
              " 80: 'delhi',\n",
              " 90: 80,\n",
              " 67: 'India',\n",
              " 50: [79, 90, 88, 66, 55]}"
            ]
          },
          "metadata": {},
          "execution_count": 32
        }
      ]
    },
    {
      "cell_type": "code",
      "source": [
        "d.update({10:(20,30,40,60)})\n",
        "d"
      ],
      "metadata": {
        "colab": {
          "base_uri": "https://localhost:8080/"
        },
        "id": "NL1xJiD0cb8L",
        "outputId": "c7b5cdbd-f278-4e16-e61d-3af148fcb26e"
      },
      "execution_count": 40,
      "outputs": [
        {
          "output_type": "execute_result",
          "data": {
            "text/plain": [
              "{78: [79, 90, 88, 66, 55],\n",
              " 56: 59,\n",
              " 76: 'Navanitha',\n",
              " 45: 80,\n",
              " 80: 'delhi',\n",
              " 90: 80,\n",
              " 67: 'India',\n",
              " 50: [79, 90, 88, 66, 55],\n",
              " 10: (20, 30, 40, 60)}"
            ]
          },
          "metadata": {},
          "execution_count": 40
        }
      ]
    },
    {
      "cell_type": "code",
      "source": [
        "d[10]"
      ],
      "metadata": {
        "colab": {
          "base_uri": "https://localhost:8080/"
        },
        "id": "xDJn8ARucyLA",
        "outputId": "9231732d-559c-4685-870b-b85608256c98"
      },
      "execution_count": 41,
      "outputs": [
        {
          "output_type": "execute_result",
          "data": {
            "text/plain": [
              "(20, 30, 40, 60)"
            ]
          },
          "metadata": {},
          "execution_count": 41
        }
      ]
    },
    {
      "cell_type": "code",
      "source": [
        "type(10)"
      ],
      "metadata": {
        "colab": {
          "base_uri": "https://localhost:8080/"
        },
        "id": "CCtxKwIQc-jT",
        "outputId": "905d48db-76ed-4c16-8dba-4b990a345337"
      },
      "execution_count": 35,
      "outputs": [
        {
          "output_type": "execute_result",
          "data": {
            "text/plain": [
              "int"
            ]
          },
          "metadata": {},
          "execution_count": 35
        }
      ]
    },
    {
      "cell_type": "code",
      "source": [
        "type(d[10])"
      ],
      "metadata": {
        "colab": {
          "base_uri": "https://localhost:8080/"
        },
        "id": "gtgKxwSVdL4Y",
        "outputId": "67fd2330-1879-4fce-bc94-afe0308ad0bc"
      },
      "execution_count": 36,
      "outputs": [
        {
          "output_type": "execute_result",
          "data": {
            "text/plain": [
              "list"
            ]
          },
          "metadata": {},
          "execution_count": 36
        }
      ]
    },
    {
      "cell_type": "code",
      "source": [
        "type(d[76])"
      ],
      "metadata": {
        "colab": {
          "base_uri": "https://localhost:8080/"
        },
        "id": "aimlGWX2dVub",
        "outputId": "0587a2dc-773d-4ba7-e258-fcf75d4fdc4b"
      },
      "execution_count": 37,
      "outputs": [
        {
          "output_type": "execute_result",
          "data": {
            "text/plain": [
              "str"
            ]
          },
          "metadata": {},
          "execution_count": 37
        }
      ]
    },
    {
      "cell_type": "code",
      "source": [
        "#we cannot add append to the tuple ()\n",
        "[10].append(67)\n",
        "d"
      ],
      "metadata": {
        "colab": {
          "base_uri": "https://localhost:8080/",
          "height": 158
        },
        "id": "fnsa8BWfdjg0",
        "outputId": "4dbe4a13-ad9c-49df-c96d-31d29e11d0a6"
      },
      "execution_count": 42,
      "outputs": [
        {
          "output_type": "error",
          "ename": "AttributeError",
          "evalue": "'tuple' object has no attribute 'append'",
          "traceback": [
            "\u001b[0;31m---------------------------------------------------------------------------\u001b[0m",
            "\u001b[0;31mAttributeError\u001b[0m                            Traceback (most recent call last)",
            "\u001b[0;32m<ipython-input-42-d081ef72b958>\u001b[0m in \u001b[0;36m<cell line: 1>\u001b[0;34m()\u001b[0m\n\u001b[0;32m----> 1\u001b[0;31m \u001b[0md\u001b[0m\u001b[0;34m[\u001b[0m\u001b[0;36m10\u001b[0m\u001b[0;34m]\u001b[0m\u001b[0;34m.\u001b[0m\u001b[0mappend\u001b[0m\u001b[0;34m(\u001b[0m\u001b[0;36m67\u001b[0m\u001b[0;34m)\u001b[0m\u001b[0;34m\u001b[0m\u001b[0;34m\u001b[0m\u001b[0m\n\u001b[0m\u001b[1;32m      2\u001b[0m \u001b[0md\u001b[0m\u001b[0;34m\u001b[0m\u001b[0;34m\u001b[0m\u001b[0m\n",
            "\u001b[0;31mAttributeError\u001b[0m: 'tuple' object has no attribute 'append'"
          ]
        }
      ]
    },
    {
      "cell_type": "code",
      "source": [
        "\n",
        "#we can add append to the list []\n",
        "[50].append(87)\n",
        "d"
      ],
      "metadata": {
        "colab": {
          "base_uri": "https://localhost:8080/"
        },
        "id": "o_uHeNekfAZd",
        "outputId": "7fc1e246-b8d4-466d-c585-d9bff2c25f1e"
      },
      "execution_count": 43,
      "outputs": [
        {
          "output_type": "execute_result",
          "data": {
            "text/plain": [
              "{78: [79, 90, 88, 66, 55],\n",
              " 56: 59,\n",
              " 76: 'Navanitha',\n",
              " 45: 80,\n",
              " 80: 'delhi',\n",
              " 90: 80,\n",
              " 67: 'India',\n",
              " 50: [79, 90, 88, 66, 55, 87],\n",
              " 10: (20, 30, 40, 60)}"
            ]
          },
          "metadata": {},
          "execution_count": 43
        }
      ]
    },
    {
      "cell_type": "code",
      "source": [
        "d[78]={'a':[35,56,46],'b':(4,3,55,66,[77,43,76])}\n",
        "d"
      ],
      "metadata": {
        "colab": {
          "base_uri": "https://localhost:8080/"
        },
        "id": "2mMqTGvMffMg",
        "outputId": "924c0e59-0479-4289-d3e8-e3928df9b2d1"
      },
      "execution_count": 62,
      "outputs": [
        {
          "output_type": "execute_result",
          "data": {
            "text/plain": [
              "{78: {'a': [35, 56, 46], 'b': (4, 3, 55, 66, [77, 43, 76])},\n",
              " 56: 59,\n",
              " 76: 'Navanitha',\n",
              " 45: 80,\n",
              " 80: 'delhi',\n",
              " 90: 80,\n",
              " 67: 'India',\n",
              " 50: [79, 90, 88, 66, 55, 87],\n",
              " 10: (20, 30, 40, 60)}"
            ]
          },
          "metadata": {},
          "execution_count": 62
        }
      ]
    },
    {
      "cell_type": "code",
      "source": [
        "print(d)"
      ],
      "metadata": {
        "colab": {
          "base_uri": "https://localhost:8080/"
        },
        "id": "rsWLXA6mglkb",
        "outputId": "77203b53-0b61-4260-fac8-4163b4451af8"
      },
      "execution_count": 63,
      "outputs": [
        {
          "output_type": "stream",
          "name": "stdout",
          "text": [
            "{78: {'a': [35, 56, 46], 'b': (4, 3, 55, 66, [77, 43, 76])}, 56: 59, 76: 'Navanitha', 45: 80, 80: 'delhi', 90: 80, 67: 'India', 50: [79, 90, 88, 66, 55, 87], 10: (20, 30, 40, 60)}\n"
          ]
        }
      ]
    },
    {
      "cell_type": "code",
      "source": [
        "d.get('b')\n",
        "d\n"
      ],
      "metadata": {
        "colab": {
          "base_uri": "https://localhost:8080/"
        },
        "id": "jdLm-a8yhh2I",
        "outputId": "db341733-47fa-4433-8b03-ef98979e9bdc"
      },
      "execution_count": 64,
      "outputs": [
        {
          "output_type": "execute_result",
          "data": {
            "text/plain": [
              "{78: {'a': [35, 56, 46], 'b': (4, 3, 55, 66, [77, 43, 76])},\n",
              " 56: 59,\n",
              " 76: 'Navanitha',\n",
              " 45: 80,\n",
              " 80: 'delhi',\n",
              " 90: 80,\n",
              " 67: 'India',\n",
              " 50: [79, 90, 88, 66, 55, 87],\n",
              " 10: (20, 30, 40, 60)}"
            ]
          },
          "metadata": {},
          "execution_count": 64
        }
      ]
    },
    {
      "cell_type": "code",
      "source": [
        "d[78]"
      ],
      "metadata": {
        "colab": {
          "base_uri": "https://localhost:8080/"
        },
        "id": "_v0BxaPdhy4h",
        "outputId": "884a74da-028a-4163-9ce8-60656e818b85"
      },
      "execution_count": 65,
      "outputs": [
        {
          "output_type": "execute_result",
          "data": {
            "text/plain": [
              "{'a': [35, 56, 46], 'b': (4, 3, 55, 66, [77, 43, 76])}"
            ]
          },
          "metadata": {},
          "execution_count": 65
        }
      ]
    },
    {
      "cell_type": "code",
      "source": [
        "d[78]['b']"
      ],
      "metadata": {
        "colab": {
          "base_uri": "https://localhost:8080/"
        },
        "id": "S81qJchaiXqB",
        "outputId": "237cd851-efd1-45d5-c635-1152fd9298ba"
      },
      "execution_count": 66,
      "outputs": [
        {
          "output_type": "execute_result",
          "data": {
            "text/plain": [
              "(4, 3, 55, 66, [77, 43, 76])"
            ]
          },
          "metadata": {},
          "execution_count": 66
        }
      ]
    },
    {
      "cell_type": "code",
      "source": [
        "d[78]['b'][2][1]"
      ],
      "metadata": {
        "colab": {
          "base_uri": "https://localhost:8080/",
          "height": 141
        },
        "id": "BJZv0b4KidYM",
        "outputId": "1325fcd5-9858-4bd1-92bd-7fe637e33ce4"
      },
      "execution_count": 67,
      "outputs": [
        {
          "output_type": "error",
          "ename": "TypeError",
          "evalue": "'int' object is not subscriptable",
          "traceback": [
            "\u001b[0;31m---------------------------------------------------------------------------\u001b[0m",
            "\u001b[0;31mTypeError\u001b[0m                                 Traceback (most recent call last)",
            "\u001b[0;32m<ipython-input-67-2319387b2945>\u001b[0m in \u001b[0;36m<cell line: 1>\u001b[0;34m()\u001b[0m\n\u001b[0;32m----> 1\u001b[0;31m \u001b[0md\u001b[0m\u001b[0;34m[\u001b[0m\u001b[0;36m78\u001b[0m\u001b[0;34m]\u001b[0m\u001b[0;34m[\u001b[0m\u001b[0;34m'b'\u001b[0m\u001b[0;34m]\u001b[0m\u001b[0;34m[\u001b[0m\u001b[0;36m2\u001b[0m\u001b[0;34m]\u001b[0m\u001b[0;34m[\u001b[0m\u001b[0;36m1\u001b[0m\u001b[0;34m]\u001b[0m\u001b[0;34m\u001b[0m\u001b[0;34m\u001b[0m\u001b[0m\n\u001b[0m",
            "\u001b[0;31mTypeError\u001b[0m: 'int' object is not subscriptable"
          ]
        }
      ]
    },
    {
      "cell_type": "code",
      "source": [
        "[]"
      ],
      "metadata": {
        "id": "sRoceAy4iwy4"
      },
      "execution_count": null,
      "outputs": []
    }
  ]
}